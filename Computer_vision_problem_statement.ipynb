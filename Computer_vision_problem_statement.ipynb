{
 "cells": [
  {
   "cell_type": "code",
   "execution_count": 2,
   "metadata": {},
   "outputs": [],
   "source": [
    "import os\n",
    "import pickle\n",
    "import pandas as pd\n",
    "\n",
    "data_path = '/home/vedant/vedant/intern/MIDAS_LABS/data'\n",
    "train_path = os.path.join(data_path,'train_image.pkl')\n",
    "test_path = os.path.join(data_path,'test_image.pkl')\n",
    "train_label_path = os.path.join(data_path,'train_label.pkl')\n",
    "with open(train_path,'rb') as f:\n",
    "    train_data = pickle.load(f)\n",
    "with open(test_path,'rb') as f:\n",
    "    test_data = pickle.load(f)\n",
    "with open(train_label_path,'rb') as f:\n",
    "    train_label = pickle.load(f)"
   ]
  },
  {
   "cell_type": "code",
   "execution_count": 3,
   "metadata": {},
   "outputs": [],
   "source": [
    "import numpy as np\n",
    "Array = np.ndarray(shape=(8000,28,28), dtype=float, order='F')\n",
    "Feature_Array = np.ndarray(shape=(8000,1,784), dtype=float, order='F')\n",
    "for i,item in enumerate(train_data):\n",
    "    Array[i] = np.reshape(item,(28,28))\n",
    "    Feature_Array[i] = np.reshape(item,(1,784))   "
   ]
  },
  {
   "cell_type": "code",
   "execution_count": 4,
   "metadata": {
    "scrolled": false
   },
   "outputs": [],
   "source": [
    "#Image used to checking\n",
    "from PIL import Image\n",
    "img = Image.fromarray(Array[1])\n",
    "basewidth = 75\n",
    "# Determine the percentage to size down (in my case, width was the critical attribute):\n",
    "width_percent = (basewidth / float(img.size[0]))\n",
    "\n",
    "# But PIL requires a height as well, as part of the 2-tuple size argument, \n",
    "# so we calculate that height proportional to the new width:\n",
    "new_height = int((float(img.size[1]) * float(width_percent)))\n",
    "\n",
    "img = img.resize((basewidth, new_height), Image.ANTIALIAS)\n",
    "img.show()"
   ]
  },
  {
   "cell_type": "code",
   "execution_count": 5,
   "metadata": {},
   "outputs": [
    {
     "name": "stderr",
     "output_type": "stream",
     "text": [
      "Using TensorFlow backend.\n"
     ]
    }
   ],
   "source": [
    "import tensorflow as tf\n",
    "from tensorflow.keras import layers\n",
    "import keras"
   ]
  },
  {
   "cell_type": "code",
   "execution_count": 6,
   "metadata": {},
   "outputs": [],
   "source": [
    "#Creating features\n",
    "Feature_Array = Feature_Array.reshape(8000,784)"
   ]
  },
  {
   "cell_type": "code",
   "execution_count": 7,
   "metadata": {},
   "outputs": [],
   "source": [
    "import sklearn\n",
    "from sklearn.model_selection import train_test_split"
   ]
  },
  {
   "cell_type": "code",
   "execution_count": 8,
   "metadata": {},
   "outputs": [],
   "source": [
    "from  sklearn.preprocessing import LabelEncoder"
   ]
  },
  {
   "cell_type": "code",
   "execution_count": 9,
   "metadata": {},
   "outputs": [
    {
     "name": "stderr",
     "output_type": "stream",
     "text": [
      "/home/vedant/anaconda3/lib/python2.7/site-packages/ipykernel_launcher.py:24: UserWarning: Update your `Dense` call to the Keras 2 API: `Dense(kernel_initializer=\"uniform\", activation=\"relu\", input_dim=784, units=50)`\n",
      "/home/vedant/anaconda3/lib/python2.7/site-packages/ipykernel_launcher.py:27: UserWarning: Update your `Dense` call to the Keras 2 API: `Dense(units=50, activation=\"relu\", kernel_initializer=\"uniform\")`\n",
      "/home/vedant/anaconda3/lib/python2.7/site-packages/ipykernel_launcher.py:30: UserWarning: Update your `Dense` call to the Keras 2 API: `Dense(units=50, activation=\"relu\", kernel_initializer=\"uniform\")`\n",
      "/home/vedant/anaconda3/lib/python2.7/site-packages/ipykernel_launcher.py:33: UserWarning: Update your `Dense` call to the Keras 2 API: `Dense(units=50, activation=\"relu\", kernel_initializer=\"uniform\")`\n",
      "/home/vedant/anaconda3/lib/python2.7/site-packages/ipykernel_launcher.py:37: UserWarning: Update your `Dense` call to the Keras 2 API: `Dense(units=4, activation=\"softmax\", kernel_initializer=\"uniform\")`\n",
      "/home/vedant/anaconda3/lib/python2.7/site-packages/ipykernel_launcher.py:44: UserWarning: The `nb_epoch` argument in `fit` has been renamed `epochs`.\n"
     ]
    },
    {
     "name": "stdout",
     "output_type": "stream",
     "text": [
      "Epoch 1/100\n",
      "5600/5600 [==============================] - 2s 361us/step - loss: 0.7113 - acc: 0.6663\n",
      "Epoch 2/100\n",
      "5600/5600 [==============================] - 1s 161us/step - loss: 0.5351 - acc: 0.7739\n",
      "Epoch 3/100\n",
      "5600/5600 [==============================] - 1s 158us/step - loss: 0.4396 - acc: 0.8286\n",
      "Epoch 4/100\n",
      "5600/5600 [==============================] - 1s 163us/step - loss: 0.3877 - acc: 0.8470\n",
      "Epoch 5/100\n",
      "5600/5600 [==============================] - 1s 162us/step - loss: 0.3626 - acc: 0.8546\n",
      "Epoch 6/100\n",
      "5600/5600 [==============================] - 1s 161us/step - loss: 0.3328 - acc: 0.8675\n",
      "Epoch 7/100\n",
      "5600/5600 [==============================] - 1s 161us/step - loss: 0.3175 - acc: 0.8746\n",
      "Epoch 8/100\n",
      "5600/5600 [==============================] - 1s 159us/step - loss: 0.2895 - acc: 0.8857\n",
      "Epoch 9/100\n",
      "5600/5600 [==============================] - 1s 158us/step - loss: 0.2654 - acc: 0.8946\n",
      "Epoch 10/100\n",
      "5600/5600 [==============================] - 1s 159us/step - loss: 0.2418 - acc: 0.9080\n",
      "Epoch 11/100\n",
      "5600/5600 [==============================] - 1s 159us/step - loss: 0.2313 - acc: 0.9073\n",
      "Epoch 12/100\n",
      "5600/5600 [==============================] - 1s 174us/step - loss: 0.2047 - acc: 0.9186\n",
      "Epoch 13/100\n",
      "5600/5600 [==============================] - 1s 172us/step - loss: 0.1987 - acc: 0.9227\n",
      "Epoch 14/100\n",
      "5600/5600 [==============================] - 1s 177us/step - loss: 0.1762 - acc: 0.9314\n",
      "Epoch 15/100\n",
      "5600/5600 [==============================] - 1s 177us/step - loss: 0.1651 - acc: 0.9357\n",
      "Epoch 16/100\n",
      "5600/5600 [==============================] - 1s 175us/step - loss: 0.1636 - acc: 0.9370\n",
      "Epoch 17/100\n",
      "5600/5600 [==============================] - 1s 166us/step - loss: 0.1474 - acc: 0.9427\n",
      "Epoch 18/100\n",
      "5600/5600 [==============================] - 1s 165us/step - loss: 0.1441 - acc: 0.9436\n",
      "Epoch 19/100\n",
      "5600/5600 [==============================] - 1s 165us/step - loss: 0.1311 - acc: 0.9495\n",
      "Epoch 20/100\n",
      "5600/5600 [==============================] - 1s 166us/step - loss: 0.1229 - acc: 0.9505\n",
      "Epoch 21/100\n",
      "5600/5600 [==============================] - 1s 177us/step - loss: 0.1130 - acc: 0.9568\n",
      "Epoch 22/100\n",
      "5600/5600 [==============================] - 1s 168us/step - loss: 0.1167 - acc: 0.9568\n",
      "Epoch 23/100\n",
      "5600/5600 [==============================] - 1s 165us/step - loss: 0.1058 - acc: 0.9621\n",
      "Epoch 24/100\n",
      "5600/5600 [==============================] - 1s 164us/step - loss: 0.0920 - acc: 0.9643\n",
      "Epoch 25/100\n",
      "5600/5600 [==============================] - 1s 166us/step - loss: 0.0925 - acc: 0.9648\n",
      "Epoch 26/100\n",
      "5600/5600 [==============================] - 1s 167us/step - loss: 0.0898 - acc: 0.9686\n",
      "Epoch 27/100\n",
      "5600/5600 [==============================] - 1s 167us/step - loss: 0.0797 - acc: 0.9695\n",
      "Epoch 28/100\n",
      "5600/5600 [==============================] - 1s 184us/step - loss: 0.0747 - acc: 0.9723\n",
      "Epoch 29/100\n",
      "5600/5600 [==============================] - 1s 173us/step - loss: 0.0829 - acc: 0.9702\n",
      "Epoch 30/100\n",
      "5600/5600 [==============================] - 1s 180us/step - loss: 0.0741 - acc: 0.9766\n",
      "Epoch 31/100\n",
      "5600/5600 [==============================] - 1s 163us/step - loss: 0.0609 - acc: 0.9814\n",
      "Epoch 32/100\n",
      "5600/5600 [==============================] - 1s 167us/step - loss: 0.0831 - acc: 0.9727\n",
      "Epoch 33/100\n",
      "5600/5600 [==============================] - 1s 165us/step - loss: 0.0741 - acc: 0.9736\n",
      "Epoch 34/100\n",
      "5600/5600 [==============================] - 1s 170us/step - loss: 0.0681 - acc: 0.9771\n",
      "Epoch 35/100\n",
      "5600/5600 [==============================] - 1s 169us/step - loss: 0.0646 - acc: 0.9780\n",
      "Epoch 36/100\n",
      "5600/5600 [==============================] - 1s 166us/step - loss: 0.0596 - acc: 0.9802\n",
      "Epoch 37/100\n",
      "5600/5600 [==============================] - 1s 167us/step - loss: 0.0612 - acc: 0.9832\n",
      "Epoch 38/100\n",
      "5600/5600 [==============================] - 1s 169us/step - loss: 0.0414 - acc: 0.9859\n",
      "Epoch 39/100\n",
      "5600/5600 [==============================] - 1s 167us/step - loss: 0.0530 - acc: 0.9821\n",
      "Epoch 40/100\n",
      "5600/5600 [==============================] - 1s 169us/step - loss: 0.0675 - acc: 0.9786\n",
      "Epoch 41/100\n",
      "5600/5600 [==============================] - 1s 171us/step - loss: 0.0644 - acc: 0.9789\n",
      "Epoch 42/100\n",
      "5600/5600 [==============================] - 1s 172us/step - loss: 0.0337 - acc: 0.9909\n",
      "Epoch 43/100\n",
      "5600/5600 [==============================] - 1s 171us/step - loss: 0.0624 - acc: 0.9809\n",
      "Epoch 44/100\n",
      "5600/5600 [==============================] - 1s 167us/step - loss: 0.0399 - acc: 0.9843\n",
      "Epoch 45/100\n",
      "5600/5600 [==============================] - 1s 166us/step - loss: 0.0544 - acc: 0.9820\n",
      "Epoch 46/100\n",
      "5600/5600 [==============================] - 1s 169us/step - loss: 0.0537 - acc: 0.9834\n",
      "Epoch 47/100\n",
      "5600/5600 [==============================] - 1s 162us/step - loss: 0.0465 - acc: 0.9870\n",
      "Epoch 48/100\n",
      "5600/5600 [==============================] - 1s 171us/step - loss: 0.0589 - acc: 0.9825\n",
      "Epoch 49/100\n",
      "5600/5600 [==============================] - 1s 184us/step - loss: 0.0400 - acc: 0.9859\n",
      "Epoch 50/100\n",
      "5600/5600 [==============================] - 1s 166us/step - loss: 0.0470 - acc: 0.9834\n",
      "Epoch 51/100\n",
      "5600/5600 [==============================] - 1s 167us/step - loss: 0.0412 - acc: 0.9866\n",
      "Epoch 52/100\n",
      "5600/5600 [==============================] - 1s 160us/step - loss: 0.0278 - acc: 0.9927\n",
      "Epoch 53/100\n",
      "5600/5600 [==============================] - 1s 160us/step - loss: 0.0377 - acc: 0.9871\n",
      "Epoch 54/100\n",
      "5600/5600 [==============================] - 1s 162us/step - loss: 0.0379 - acc: 0.9880\n",
      "Epoch 55/100\n",
      "5600/5600 [==============================] - 1s 167us/step - loss: 0.0328 - acc: 0.9902\n",
      "Epoch 56/100\n",
      "5600/5600 [==============================] - 1s 162us/step - loss: 0.0349 - acc: 0.9896\n",
      "Epoch 57/100\n",
      "5600/5600 [==============================] - 1s 165us/step - loss: 0.0547 - acc: 0.9852\n",
      "Epoch 58/100\n",
      "5600/5600 [==============================] - 1s 174us/step - loss: 0.0372 - acc: 0.9884\n",
      "Epoch 59/100\n",
      "5600/5600 [==============================] - 1s 162us/step - loss: 0.0634 - acc: 0.9845\n",
      "Epoch 60/100\n",
      "5600/5600 [==============================] - 1s 158us/step - loss: 0.0352 - acc: 0.9891\n",
      "Epoch 61/100\n",
      "5600/5600 [==============================] - 1s 169us/step - loss: 0.0223 - acc: 0.9948\n",
      "Epoch 62/100\n",
      "5600/5600 [==============================] - 1s 202us/step - loss: 0.0481 - acc: 0.9850\n",
      "Epoch 63/100\n",
      "5600/5600 [==============================] - 1s 178us/step - loss: 0.0268 - acc: 0.9918\n",
      "Epoch 64/100\n",
      "5600/5600 [==============================] - 1s 178us/step - loss: 0.0350 - acc: 0.9916\n",
      "Epoch 65/100\n",
      "5600/5600 [==============================] - 1s 178us/step - loss: 0.0250 - acc: 0.9939\n",
      "Epoch 66/100\n",
      "5600/5600 [==============================] - 1s 182us/step - loss: 0.0383 - acc: 0.9893\n",
      "Epoch 67/100\n",
      "5600/5600 [==============================] - 1s 180us/step - loss: 0.0460 - acc: 0.9886\n",
      "Epoch 68/100\n",
      "5600/5600 [==============================] - 1s 188us/step - loss: 0.0370 - acc: 0.9884\n",
      "Epoch 69/100\n",
      "5600/5600 [==============================] - 1s 178us/step - loss: 0.0148 - acc: 0.9959\n",
      "Epoch 70/100\n",
      "5600/5600 [==============================] - 1s 170us/step - loss: 0.0267 - acc: 0.9932\n",
      "Epoch 71/100\n",
      "5600/5600 [==============================] - 1s 172us/step - loss: 0.0433 - acc: 0.9886\n",
      "Epoch 72/100\n",
      "5600/5600 [==============================] - 1s 171us/step - loss: 0.0362 - acc: 0.9904\n",
      "Epoch 73/100\n",
      "5600/5600 [==============================] - 1s 215us/step - loss: 0.0397 - acc: 0.9918\n",
      "Epoch 74/100\n",
      "5600/5600 [==============================] - 1s 150us/step - loss: 0.0450 - acc: 0.9884\n",
      "Epoch 75/100\n",
      "5600/5600 [==============================] - 1s 151us/step - loss: 0.0259 - acc: 0.9936\n",
      "Epoch 76/100\n",
      "5600/5600 [==============================] - 1s 164us/step - loss: 0.0207 - acc: 0.9943\n",
      "Epoch 77/100\n",
      "5600/5600 [==============================] - 1s 237us/step - loss: 0.0331 - acc: 0.9920\n",
      "Epoch 78/100\n",
      "5600/5600 [==============================] - 1s 234us/step - loss: 0.0137 - acc: 0.9957\n",
      "Epoch 79/100\n",
      "5600/5600 [==============================] - 2s 294us/step - loss: 0.0347 - acc: 0.9905\n",
      "Epoch 80/100\n",
      "5600/5600 [==============================] - 1s 212us/step - loss: 0.0057 - acc: 0.9989\n",
      "Epoch 81/100\n",
      "5600/5600 [==============================] - 2s 277us/step - loss: 5.7369e-04 - acc: 1.0000\n",
      "Epoch 82/100\n",
      "5600/5600 [==============================] - 2s 268us/step - loss: 1.8386e-04 - acc: 1.0000\n",
      "Epoch 83/100\n",
      "5600/5600 [==============================] - 1s 258us/step - loss: 1.0841e-04 - acc: 1.0000\n",
      "Epoch 84/100\n",
      "5600/5600 [==============================] - 1s 246us/step - loss: 6.6797e-05 - acc: 1.0000\n",
      "Epoch 85/100\n",
      "5600/5600 [==============================] - 1s 242us/step - loss: 4.1553e-05 - acc: 1.0000\n",
      "Epoch 86/100\n",
      "5600/5600 [==============================] - 1s 180us/step - loss: 2.5022e-05 - acc: 1.0000\n",
      "Epoch 87/100\n",
      "5600/5600 [==============================] - 1s 146us/step - loss: 1.6657e-05 - acc: 1.0000\n",
      "Epoch 88/100\n",
      "5600/5600 [==============================] - 1s 142us/step - loss: 1.1231e-05 - acc: 1.0000\n",
      "Epoch 89/100\n",
      "5600/5600 [==============================] - 1s 141us/step - loss: 7.4838e-06 - acc: 1.0000\n",
      "Epoch 90/100\n",
      "5600/5600 [==============================] - 1s 158us/step - loss: 5.2517e-06 - acc: 1.0000\n",
      "Epoch 91/100\n",
      "5600/5600 [==============================] - 1s 168us/step - loss: 3.7655e-06 - acc: 1.0000\n",
      "Epoch 92/100\n",
      "5600/5600 [==============================] - 1s 153us/step - loss: 2.7931e-06 - acc: 1.0000\n",
      "Epoch 93/100\n",
      "5600/5600 [==============================] - 1s 144us/step - loss: 2.1084e-06 - acc: 1.0000\n",
      "Epoch 94/100\n",
      "5600/5600 [==============================] - 1s 213us/step - loss: 1.5694e-06 - acc: 1.0000\n",
      "Epoch 95/100\n",
      "5600/5600 [==============================] - 1s 145us/step - loss: 1.2048e-06 - acc: 1.0000\n",
      "Epoch 96/100\n",
      "5600/5600 [==============================] - 1s 176us/step - loss: 9.7999e-07 - acc: 1.0000\n",
      "Epoch 97/100\n",
      "5600/5600 [==============================] - 1s 153us/step - loss: 7.9817e-07 - acc: 1.0000\n",
      "Epoch 98/100\n",
      "5600/5600 [==============================] - 1s 163us/step - loss: 6.6758e-07 - acc: 1.0000\n",
      "Epoch 99/100\n",
      "5600/5600 [==============================] - 1s 162us/step - loss: 5.8052e-07 - acc: 1.0000\n",
      "Epoch 100/100\n",
      "5600/5600 [==============================] - 1s 178us/step - loss: 5.1462e-07 - acc: 1.0000\n"
     ]
    },
    {
     "data": {
      "text/plain": [
       "<keras.callbacks.History at 0x7fe10e5b5750>"
      ]
     },
     "execution_count": 9,
     "metadata": {},
     "output_type": "execute_result"
    }
   ],
   "source": [
    "from sklearn.preprocessing import LabelEncoder, OneHotEncoder\n",
    "le = LabelEncoder()\n",
    "y = le.fit_transform(train_label)\n",
    "#Splitting the dataset into the Training set and Test set\n",
    "\n",
    "from sklearn.model_selection import train_test_split\n",
    "X_train, X_test, y_train, y_test = train_test_split(Feature_Array, y, test_size = 0.3, random_state = 0)\n",
    "#Feature Scaling\n",
    "\n",
    "from sklearn.preprocessing import StandardScaler\n",
    "sc = StandardScaler()\n",
    "X_train = sc.fit_transform(X_train)\n",
    "X_test = sc.transform(X_test)\n",
    "\n",
    "#importing the keras libraries and keras\n",
    "import keras\n",
    "from keras.models import Sequential\n",
    "from keras.layers import Dense\n",
    "\n",
    "#initializing the ANN\n",
    "classifier = Sequential()\n",
    "\n",
    "#adding an input layer and the first hidden layer\n",
    "classifier.add(Dense(output_dim = 50,init ='uniform',activation = 'relu',input_dim=784))\n",
    "\n",
    "#adding the second hidden layer\n",
    "classifier.add(Dense(output_dim =50,init ='uniform',activation = 'relu'))\n",
    "\n",
    "#adding the third hidden layer\n",
    "classifier.add(Dense(output_dim =50,init ='uniform',activation = 'relu'))\n",
    "\n",
    "#adding the forth hidden layer\n",
    "classifier.add(Dense(output_dim =50,init ='uniform',activation = 'relu'))\n",
    "\n",
    "#Adding the output layer\n",
    "#if you dependent variable is more than 1 categorie use softmax as the activation function, the ouput dim will also be your number of features\n",
    "classifier.add(Dense(output_dim = 4 ,init ='uniform',activation = 'softmax'))\n",
    "\n",
    "#Compiling the ANN\n",
    "#categorical_crossentropy\n",
    "classifier.compile(optimizer = 'adam' , loss = 'sparse_categorical_crossentropy', metrics = ['accuracy'])\n",
    "\n",
    "#Fitting the ANN to the traning set\n",
    "classifier.fit(X_train,y_train,batch_size = 10 ,nb_epoch=100)"
   ]
  },
  {
   "cell_type": "code",
   "execution_count": 10,
   "metadata": {},
   "outputs": [],
   "source": [
    "result_tests = classifier.predict(X_test)\n",
    "result_trains = classifier.predict(X_train)"
   ]
  },
  {
   "cell_type": "code",
   "execution_count": 11,
   "metadata": {},
   "outputs": [],
   "source": [
    "result_test = list()\n",
    "for i in range(2400):\n",
    "    result_test.append(np.argmax(result_tests[i]))\n",
    "result_test = np.array(result_test)"
   ]
  },
  {
   "cell_type": "code",
   "execution_count": 12,
   "metadata": {},
   "outputs": [],
   "source": [
    "result_train = list()\n",
    "for i in range(5600):\n",
    "    result_train.append(np.argmax(result_trains[i]))\n",
    "result_train = np.array(result_train)"
   ]
  },
  {
   "cell_type": "code",
   "execution_count": 13,
   "metadata": {},
   "outputs": [
    {
     "data": {
      "text/plain": [
       "0.82875"
      ]
     },
     "execution_count": 13,
     "metadata": {},
     "output_type": "execute_result"
    }
   ],
   "source": [
    "from sklearn.metrics import accuracy_score\n",
    "accuracy_score(y_test,result_test)"
   ]
  },
  {
   "cell_type": "code",
   "execution_count": 14,
   "metadata": {},
   "outputs": [
    {
     "data": {
      "text/plain": [
       "1.0"
      ]
     },
     "execution_count": 14,
     "metadata": {},
     "output_type": "execute_result"
    }
   ],
   "source": [
    "accuracy_score(y_train,result_train)"
   ]
  },
  {
   "cell_type": "code",
   "execution_count": 15,
   "metadata": {},
   "outputs": [],
   "source": [
    "#Finally making the array of real test data\n",
    "#Preparing the data\n",
    "test_Array = np.ndarray(shape=(2000,28,28), dtype=float, order='F')\n",
    "Feature_test_Array = np.ndarray(shape=(2000,1,784), dtype=float, order='F')\n",
    "for i,item in enumerate(test_data):\n",
    "    test_Array[i] = np.reshape(item,(28,28))\n",
    "    Feature_test_Array[i] = np.reshape(item,(1,784))\n",
    "Feature_test_Array = Feature_test_Array.reshape(2000,784)\n",
    "#Scaling the data\n",
    "sc_ = StandardScaler()\n",
    "X_test_final = sc_.fit_transform(Feature_test_Array)\n",
    "#Predicting the data\n",
    "result_tests_final = classifier.predict(X_test_final)\n",
    "result_test_final = list()\n",
    "for i in range(len(test_data)):\n",
    "    result_test_final.append(np.argmax(result_tests_final[i]))\n",
    "result_test_final = np.array(result_test_final)\n",
    "#Final Array\n",
    "results_finals = le.inverse_transform(result_test_final)"
   ]
  },
  {
   "cell_type": "code",
   "execution_count": 29,
   "metadata": {},
   "outputs": [],
   "source": [
    "#Sumbitting the dataframe into path\n",
    "submission_data_path = '/home/vedant/vedant/intern/MIDAS_LABS/data/vedant_saraswat.csv'\n",
    "image_index = list()\n",
    "for i in range(results_finals.shape[0]):\n",
    "    image_index.append(i)\n",
    "image_index = pd.Series(image_index,name='image_index')\n",
    "result_dataframe = pd.Series(results_finals,name='class') \n",
    "submission_dataframe = pd.concat([image_index,result_dataframe], axis=1, sort=False)\n",
    "submission_dataframe.to_csv(submission_data_path)"
   ]
  },
  {
   "cell_type": "code",
   "execution_count": null,
   "metadata": {},
   "outputs": [],
   "source": []
  },
  {
   "cell_type": "code",
   "execution_count": null,
   "metadata": {},
   "outputs": [],
   "source": []
  },
  {
   "cell_type": "code",
   "execution_count": null,
   "metadata": {},
   "outputs": [],
   "source": []
  },
  {
   "cell_type": "code",
   "execution_count": null,
   "metadata": {},
   "outputs": [],
   "source": []
  }
 ],
 "metadata": {
  "kernelspec": {
   "display_name": "Python 3",
   "language": "python",
   "name": "python3"
  },
  "language_info": {
   "codemirror_mode": {
    "name": "ipython",
    "version": 2
   },
   "file_extension": ".py",
   "mimetype": "text/x-python",
   "name": "python",
   "nbconvert_exporter": "python",
   "pygments_lexer": "ipython2",
   "version": "2.7.15"
  }
 },
 "nbformat": 4,
 "nbformat_minor": 2
}
